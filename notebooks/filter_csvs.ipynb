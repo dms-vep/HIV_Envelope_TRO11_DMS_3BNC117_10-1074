{
 "cells": [
  {
   "cell_type": "markdown",
   "id": "72e327b8-9a52-4d6b-a358-a20e39b23dc0",
   "metadata": {},
   "source": [
    "# Filter CSVs\n",
    "\n",
    "This notebook filters CSV outputs from several analyses with filter settings typically used by the Bloom Lab. \n",
    "\n",
    "Import modules and set up output directories:"
   ]
  },
  {
   "cell_type": "code",
   "execution_count": 1,
   "id": "4522183f-6a86-46e7-8ce1-adb81c104671",
   "metadata": {},
   "outputs": [],
   "source": [
    "import os\n",
    "import pandas as pd\n",
    "\n",
    "if not os.path.exists('./results/filtered_csvs/'):\n",
    "    os.makedirs('./results/filtered_csvs/')"
   ]
  },
  {
   "cell_type": "markdown",
   "id": "0c75674e-1593-497f-9274-01e563af2275",
   "metadata": {},
   "source": [
    "First we will filter the BF520 Env data. The BF520 Env libraries have a higher mutation rate and fewer targeted mutations. Therefore, we will set the times_seen filter to 3 to require mutations to be seen in three different backgrounds. For the antibody selection data, we will filter any mutations with a functional effect less than -4, which are non-functional and have noisy scores. "
   ]
  },
  {
   "cell_type": "code",
   "execution_count": 2,
   "id": "51aa3fad-e72d-4992-a938-fe5fb8cafe69",
   "metadata": {},
   "outputs": [],
   "source": [
    "# BF520 filters\n",
    "times_seen_filter = 3\n",
    "func_effect_filter = -4\n",
    "\n",
    "# Filter the functional effect csvs \n",
    "for effect in ['latent', 'func']:\n",
    "    TZM_entry_effects = pd.read_csv(f'../HIV_Envelope_BF520_DMS_3BNC117_10-1074/results/func_effects/averages/TZM-bl_entry_{effect}_effects.csv')\n",
    "    TZM_entry_effects_filtered = TZM_entry_effects.query('times_seen>=@times_seen_filter')\n",
    "    TZM_entry_effects_filtered.to_csv(f'./results/filtered_csvs/BF520_Env_TZM-bl_entry_{effect}_effects_filtered.csv', index=False)\n",
    "\n",
    "# Filter the antibody escape csvs\n",
    "for antibody in ['3BNC117', '10-1074']:\n",
    "    average_escape = pd.read_csv(f'../HIV_Envelope_BF520_DMS_3BNC117_10-1074/results/antibody_escape/averages/{antibody}_mut_effect.csv')\n",
    "    average_escape = average_escape.merge(\n",
    "        TZM_entry_effects_filtered[['site', 'wildtype', 'mutant', 'effect']],\n",
    "        how='left',\n",
    "        on=['site', 'wildtype', 'mutant'],\n",
    "    )\n",
    "    average_escape_filtered = (average_escape\n",
    "                                       .query('times_seen>=@times_seen_filter')\n",
    "                                       .query('effect>=@func_effect_filter')\n",
    "                                       .drop(columns=['effect'])\n",
    "                                      )\n",
    "    average_escape_filtered.reset_index(drop=True).to_csv(f'./results/filtered_csvs/BF520_Env_{antibody}_mut_effects_filtered.csv', index=False)"
   ]
  },
  {
   "cell_type": "markdown",
   "id": "e7be379a-2588-4b87-b971-975fd0e84aa2",
   "metadata": {},
   "source": [
    "Next we will filter the TRO11 Env data. The TRO11 Env libraries have a lower mutation rate and higher total targeted mutations. Therefore, we will set the times_seen filter to 2, because most variants have only one mutation and each mutation will be seen in fewer backgrounds. For the antibody selection data, we will again filter any mutations with a functional effect less than -4, which are non-functional and have noisy scores."
   ]
  },
  {
   "cell_type": "code",
   "execution_count": 3,
   "id": "7bee5ca9-56c3-4fad-8e22-cf750056c418",
   "metadata": {},
   "outputs": [],
   "source": [
    "# TRO11 filters\n",
    "times_seen_filter = 2\n",
    "func_effect_filter = -4\n",
    "\n",
    "# Filter the functional effect csvs \n",
    "for effect in ['latent', 'func']:\n",
    "    TZM_entry_effects = pd.read_csv(f'./results/func_effects/averages/TZM-bl_entry_{effect}_effects.csv')\n",
    "    TZM_entry_effects_filtered = TZM_entry_effects.query('times_seen>=@times_seen_filter')\n",
    "    TZM_entry_effects_filtered.to_csv(f'./results/filtered_csvs/TRO11_Env_TZM-bl_entry_{effect}_effects_filtered.csv', index=False)\n",
    "\n",
    "# Filter the antibody escape csvs\n",
    "for antibody in ['3BNC117', '10-1074']:\n",
    "    average_escape = pd.read_csv(f'./results/antibody_escape/averages/{antibody}_mut_effect.csv')\n",
    "    average_escape = average_escape.merge(\n",
    "        TZM_entry_effects_filtered[['site', 'wildtype', 'mutant', 'effect']],\n",
    "        how='left',\n",
    "        on=['site', 'wildtype', 'mutant'],\n",
    "    )\n",
    "    average_escape_filtered = (average_escape\n",
    "                                       .query('times_seen>=@times_seen_filter')\n",
    "                                       .query('effect>=@func_effect_filter')\n",
    "                                       .drop(columns=['effect'])\n",
    "                                      )\n",
    "    average_escape_filtered.reset_index(drop=True).to_csv(f'./results/filtered_csvs/TRO11_Env_{antibody}_mut_effects_filtered.csv', index=False)"
   ]
  },
  {
   "cell_type": "code",
   "execution_count": null,
   "id": "57f7bc29-67e6-4ee4-9e9f-fa189d49d60c",
   "metadata": {},
   "outputs": [],
   "source": []
  }
 ],
 "metadata": {
  "kernelspec": {
   "display_name": "Python 3 (ipykernel)",
   "language": "python",
   "name": "python3"
  },
  "language_info": {
   "codemirror_mode": {
    "name": "ipython",
    "version": 3
   },
   "file_extension": ".py",
   "mimetype": "text/x-python",
   "name": "python",
   "nbconvert_exporter": "python",
   "pygments_lexer": "ipython3",
   "version": "3.12.8"
  }
 },
 "nbformat": 4,
 "nbformat_minor": 5
}
